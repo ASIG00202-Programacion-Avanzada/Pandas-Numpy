{
  "cells": [
    {
      "cell_type": "markdown",
      "source": [
        "# **Empezamos siempre por importar las librerias necesarias para el correcto funcionamiento de nuestros scripts.**"
      ],
      "metadata": {
        "id": "LmC5vulMIz37"
      },
      "id": "LmC5vulMIz37"
    },
    {
      "cell_type": "code",
      "source": [
        "import pandas as pd\n",
        "import numpy as np\n",
        "import datetime"
      ],
      "metadata": {
        "id": "SllTyD6qJEUl"
      },
      "id": "SllTyD6qJEUl",
      "execution_count": 15,
      "outputs": []
    },
    {
      "cell_type": "markdown",
      "source": [
        "\n",
        "### 1. Crear un arreglo de NumPy con las poblaciones (en miles) del dataset\n",
        "\n",
        "Usando el alias que le pusimos a la importacion, implementamos el metodo array que nos crea un arreglo con la informacion que requerimos.\n"
      ],
      "metadata": {
        "id": "r1cyTgNqJIB3"
      },
      "id": "r1cyTgNqJIB3"
    },
    {
      "cell_type": "code",
      "source": [
        "ciudades = np.array([\n",
        "    [\"Buenos Aires\", \"CABA\", \"3070\", \"1580\"],\n",
        "    [\"Córdoba\", \"Córdoba\", \"1390\", \"1573\"],\n",
        "    [\"Rosario\", \"Santa Fe\", \"1170\", \"1689\"],\n",
        "    [\"Mendoza\", \"Mendoza\", \"937\", \"1561\"],\n",
        "    [\"La Plata\", \"Buenos Aires\", \"740\", \"1882\"]\n",
        "])\n"
      ],
      "metadata": {
        "id": "AESmCof-JNYz"
      },
      "id": "AESmCof-JNYz",
      "execution_count": 2,
      "outputs": []
    },
    {
      "cell_type": "markdown",
      "source": [
        "# 2. Calcular la media, mediana y desviación estándar de la población.\n",
        "\n",
        "Aca utilizamos otros metodos que la libreria nos provee para realizar los calculos estadisticos solicitados."
      ],
      "metadata": {
        "id": "pEmb13i5JRXy"
      },
      "id": "pEmb13i5JRXy"
    },
    {
      "cell_type": "code",
      "source": [
        "poblaciones = ciudades[:,2].astype(int)\n",
        "\n",
        "media = np.mean(poblaciones)\n",
        "print(f\"La población media de las ciudades es: {media} miles de habitantes.\")\n",
        "\n",
        "mediana = np.median(poblaciones)\n",
        "print(f\"La mediana de la población de las ciudades es: {mediana} miles de habitantes.\")\n",
        "\n",
        "desviacion_estandar = np.std(poblaciones)\n",
        "print(f\"La desviación estándar de la población de las ciudades es: {desviacion_estandar} miles de habitantes.\")\n"
      ],
      "metadata": {
        "colab": {
          "base_uri": "https://localhost:8080/"
        },
        "id": "dCp9d4F8JVzQ",
        "outputId": "e0d9ec1e-a519-4b59-85ed-4b8e6d517de3"
      },
      "id": "dCp9d4F8JVzQ",
      "execution_count": 4,
      "outputs": [
        {
          "output_type": "stream",
          "name": "stdout",
          "text": [
            "La población media de las ciudades es: 1461.4 miles de habitantes.\n",
            "La mediana de la población de las ciudades es: 1170.0 miles de habitantes.\n",
            "La desviación estándar de la población de las ciudades es: 833.4289651793966 miles de habitantes.\n"
          ]
        }
      ]
    },
    {
      "cell_type": "markdown",
      "source": [
        "# 3. Crear un arreglo con los años de fundación y obtener la ciudad más antigua.\n",
        "\n",
        "Como en el ejercicio anterior, utilizamos cierta posicion para encontrar la columna que requerimos y en base a eso con el metodo min, encontramos el numero mas bajo en esa columna, el cual luego nos servira para mapear con la ciudad que corresponde a ese dato."
      ],
      "metadata": {
        "id": "0bWkWi_WJcU1"
      },
      "id": "0bWkWi_WJcU1"
    },
    {
      "cell_type": "code",
      "source": [
        "años_fundacion = ciudades[:,3].astype(int)\n",
        "mas_antigua = np.min(años_fundacion)\n",
        "ciudad_mas_antigua = ciudades[np.argmin(años_fundacion), 0]\n",
        "print(f\"La ciudad más antigua es {ciudad_mas_antigua}, fundada en {mas_antigua}.\")"
      ],
      "metadata": {
        "colab": {
          "base_uri": "https://localhost:8080/"
        },
        "id": "VwxCie0PJgOF",
        "outputId": "fa5e1407-6138-43ba-a2ae-f5c58baa279e"
      },
      "id": "VwxCie0PJgOF",
      "execution_count": 5,
      "outputs": [
        {
          "output_type": "stream",
          "name": "stdout",
          "text": [
            "La ciudad más antigua es Mendoza, fundada en 1561.\n"
          ]
        }
      ]
    },
    {
      "cell_type": "markdown",
      "source": [
        "# 4. Generar una matriz combinando población y año de fundación y calcular suma por columnas.\n",
        "\n",
        "Combinamos las columnas solicitadas y con el metodo sum obtenemos la suma total en esas columnas."
      ],
      "metadata": {
        "id": "lzPZuFe3Jpn4"
      },
      "id": "lzPZuFe3Jpn4"
    },
    {
      "cell_type": "code",
      "source": [
        "matriz = np.column_stack((poblaciones, años_fundacion))\n",
        "suma_columnas = np.sum(matriz, axis=0)\n",
        "print(f\"Suma de poblaciones: {suma_columnas[0]}, Suma de años de fundación: {suma_columnas[1]}\")"
      ],
      "metadata": {
        "id": "b4dE5oP9Jtqk"
      },
      "id": "b4dE5oP9Jtqk",
      "execution_count": null,
      "outputs": []
    },
    {
      "cell_type": "markdown",
      "source": [
        "# Parte 2: Pandas"
      ],
      "metadata": {
        "id": "LuUwMVAvK8c-"
      },
      "id": "LuUwMVAvK8c-"
    },
    {
      "cell_type": "code",
      "source": [
        "1. Crear un DataFrame con el dataset de ciudades argentinas."
      ],
      "metadata": {
        "id": "x4xyhEjSK-gw"
      },
      "id": "x4xyhEjSK-gw",
      "execution_count": null,
      "outputs": []
    },
    {
      "cell_type": "code",
      "source": [
        "data = {\n",
        "    \"Ciudad\": [\"Buenos Aires\", \"Córdoba\", \"Rosario\", \"Mendoza\", \"La Plata\"],\n",
        "    \"Provincia\": [\"CABA\", \"Córdoba\", \"Santa Fe\", \"Mendoza\", \"Buenos Aires\"],\n",
        "    \"Población (miles)\": [3070, 1390, 1170, 937, 740],\n",
        "    \"Año de fundación\": [1580, 1573, 1689, 1561, 1882],\n",
        "}\n",
        "\n",
        "df = pd.DataFrame(data)"
      ],
      "metadata": {
        "id": "BSaP3dicLEJQ"
      },
      "id": "BSaP3dicLEJQ",
      "execution_count": 6,
      "outputs": []
    },
    {
      "cell_type": "code",
      "source": [
        "siglo_fundacion = (df[\"Año de fundación\"] // 100) + 1\n",
        "df[\"Siglo de fundación\"] = siglo_fundacion\n",
        "print(df)"
      ],
      "metadata": {
        "colab": {
          "base_uri": "https://localhost:8080/"
        },
        "id": "ehtD37z8LKBL",
        "outputId": "295112be-0f01-4569-807f-538b5704cd9c"
      },
      "id": "ehtD37z8LKBL",
      "execution_count": 8,
      "outputs": [
        {
          "output_type": "stream",
          "name": "stdout",
          "text": [
            "         Ciudad     Provincia  Población (miles)  Año de fundación  \\\n",
            "0  Buenos Aires          CABA               3070              1580   \n",
            "1       Córdoba       Córdoba               1390              1573   \n",
            "2       Rosario      Santa Fe               1170              1689   \n",
            "3       Mendoza       Mendoza                937              1561   \n",
            "4      La Plata  Buenos Aires                740              1882   \n",
            "\n",
            "   Siglo de fundación  \n",
            "0                  16  \n",
            "1                  16  \n",
            "2                  17  \n",
            "3                  16  \n",
            "4                  19  \n"
          ]
        }
      ]
    },
    {
      "cell_type": "markdown",
      "source": [
        "# 2. Agregar una columna que indique el siglo de fundación de cada ciudad.\n",
        "\n",
        "Al dataframe original le sumamos la columna solicitada con su calculo correspondiente."
      ],
      "metadata": {
        "id": "hJqUARr5LHc1"
      },
      "id": "hJqUARr5LHc1"
    },
    {
      "cell_type": "code",
      "source": [
        "siglo_fundacion = (df[\"Año de fundación\"] // 100) + 1\n",
        "df[\"Siglo de fundación\"] = siglo_fundacion\n",
        "print(df)"
      ],
      "metadata": {
        "colab": {
          "base_uri": "https://localhost:8080/"
        },
        "id": "W9H1gxuvPBmY",
        "outputId": "db2ad80c-1b51-4f9d-9aeb-a030ebdf8ab2"
      },
      "id": "W9H1gxuvPBmY",
      "execution_count": 10,
      "outputs": [
        {
          "output_type": "stream",
          "name": "stdout",
          "text": [
            "         Ciudad     Provincia  Población (miles)  Año de fundación  \\\n",
            "0  Buenos Aires          CABA               3070              1580   \n",
            "1       Córdoba       Córdoba               1390              1573   \n",
            "2       Rosario      Santa Fe               1170              1689   \n",
            "3       Mendoza       Mendoza                937              1561   \n",
            "4      La Plata  Buenos Aires                740              1882   \n",
            "\n",
            "   Siglo de fundación  \n",
            "0                  16  \n",
            "1                  16  \n",
            "2                  17  \n",
            "3                  16  \n",
            "4                  19  \n"
          ]
        }
      ]
    },
    {
      "cell_type": "markdown",
      "source": [
        "# 3. Calcular la ciudad con mayor población y la edad promedio por provincia.\n",
        "\n",
        "Con el metodo loc accedemos a la fila que en ese caso se calcula en base a que provincia tiene mayor poblacion.\n",
        "En la segunda parte obtenemos cuantos años de existencia tiene cada provincia, para la cual utilizamos otra libreria como datetime, llegando a crear otra columna calculada. En base a esa nueva columna es que a traves del group by obtenemos la edad promedio por provincia. Como no nos quedo claro esta ultima parte es que agregamos el promedio general de las edades de las provincias."
      ],
      "metadata": {
        "id": "PLDEXHBOLPRe"
      },
      "id": "PLDEXHBOLPRe"
    },
    {
      "cell_type": "code",
      "source": [],
      "metadata": {
        "id": "itEFaLufTcNZ"
      },
      "id": "itEFaLufTcNZ",
      "execution_count": null,
      "outputs": []
    },
    {
      "cell_type": "code",
      "source": [
        "ciudad_mayor_poblacion = df.loc[df[\"Población (miles)\"].idxmax()]\n",
        "print(f\"La ciudad con mayor población es {ciudad_mayor_poblacion['Ciudad']} con {ciudad_mayor_poblacion['Población (miles)']} miles de habitantes.\")\n",
        "\n",
        "current_year = datetime.datetime.now().year\n",
        "df[\"Edad_Provincia\"] = current_year - df[\"Año de fundación\"]\n",
        "edad_promedio_provincias = df.groupby(\"Provincia\")[\"Edad_Provincia\"].mean()\n",
        "print(\"Edad promedio de las provincias:\")\n",
        "print(edad_promedio_provincias)\n",
        "\n",
        "edad_promedio_provincias = df['Edad_Provincia'].mean()\n",
        "print(\"Edad promedio de las provincias:\", edad_promedio_provincias)\n",
        "\n",
        "\n",
        "\n",
        "\n"
      ],
      "metadata": {
        "colab": {
          "base_uri": "https://localhost:8080/"
        },
        "id": "4ZsdpM4ZLTKE",
        "outputId": "152b40fb-0bb2-4e6e-cf1e-7955eff0877e"
      },
      "id": "4ZsdpM4ZLTKE",
      "execution_count": 17,
      "outputs": [
        {
          "output_type": "stream",
          "name": "stdout",
          "text": [
            "La ciudad con mayor población es Buenos Aires con 3070 miles de habitantes.\n",
            "Edad promedio de las provincias:\n",
            "Provincia\n",
            "Buenos Aires    143.0\n",
            "CABA            445.0\n",
            "Córdoba         452.0\n",
            "Mendoza         464.0\n",
            "Santa Fe        336.0\n",
            "Name: Edad_Provincia, dtype: float64\n",
            "Edad promedio de las provincias: 368.0\n"
          ]
        }
      ]
    },
    {
      "cell_type": "markdown",
      "source": [
        "# 4. Filtrar las ciudades fundadas antes de 1600.\n",
        "\n",
        "En este ejercicio en base a la columna año de fundacion realizamos un filtro que nos devuelve solo las ciudades que hayan sido fundadas antes de 1600(no esta incluido!)\n",
        "\n"
      ],
      "metadata": {
        "id": "8OKK2FCLLV6k"
      },
      "id": "8OKK2FCLLV6k"
    },
    {
      "cell_type": "code",
      "source": [
        "ciudades_menores_1600 = df[df[\"Año de fundación\"] > 1600]\n",
        "print(\"Ciudades fundadas después del año 1600:\")\n",
        "print(ciudades_menores_1600)"
      ],
      "metadata": {
        "colab": {
          "base_uri": "https://localhost:8080/"
        },
        "id": "xjaAZx9ELbX9",
        "outputId": "f547ad66-3c74-4f0e-f0e9-6d682aa525ea"
      },
      "id": "xjaAZx9ELbX9",
      "execution_count": 12,
      "outputs": [
        {
          "output_type": "stream",
          "name": "stdout",
          "text": [
            "Ciudades fundadas después del año 1600:\n",
            "     Ciudad     Provincia  Población (miles)  Año de fundación  \\\n",
            "2   Rosario      Santa Fe               1170              1689   \n",
            "4  La Plata  Buenos Aires                740              1882   \n",
            "\n",
            "   Siglo de fundación  \n",
            "2                  17  \n",
            "4                  19  \n"
          ]
        }
      ]
    },
    {
      "cell_type": "markdown",
      "source": [
        "# 5. Exportar el DataFrame final a un archivo CSV llamado 'ciudades_arg.csv'\n",
        "\n",
        "Compo paso final, gracias al metodo to_csv es que podemos exportar el dataframe(con todas las modificaciones realizadas) a un archivo .csv que luego podemos importar en alguna herramienta de visualizaciòn como power bi, qlik sense etc para realizar el analisis que estemos requiriendo."
      ],
      "metadata": {
        "id": "A__C2E9cLeNm"
      },
      "id": "A__C2E9cLeNm"
    },
    {
      "cell_type": "code",
      "source": [
        "export_csv = df.to_csv(\"ciudades_arg.csv\", index=False)\n",
        "print(\"Datos exportados a 'ciudades.csv'\")"
      ],
      "metadata": {
        "id": "MAlXAMH_LivL"
      },
      "id": "MAlXAMH_LivL",
      "execution_count": null,
      "outputs": []
    },
    {
      "cell_type": "code",
      "execution_count": null,
      "id": "f4cf4ce4",
      "metadata": {
        "id": "f4cf4ce4"
      },
      "outputs": [],
      "source": [
        "\n",
        "\n"
      ]
    }
  ],
  "metadata": {
    "language_info": {
      "name": "python"
    },
    "colab": {
      "provenance": []
    },
    "kernelspec": {
      "name": "python3",
      "display_name": "Python 3"
    }
  },
  "nbformat": 4,
  "nbformat_minor": 5
}